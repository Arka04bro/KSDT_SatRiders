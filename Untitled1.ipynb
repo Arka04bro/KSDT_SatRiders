{
  "nbformat": 4,
  "nbformat_minor": 0,
  "metadata": {
    "colab": {
      "provenance": []
    },
    "kernelspec": {
      "name": "python3",
      "display_name": "Python 3"
    },
    "language_info": {
      "name": "python"
    }
  },
  "cells": [
    {
      "cell_type": "code",
      "execution_count": 6,
      "metadata": {
        "id": "ik-MemqsHN6l"
      },
      "outputs": [],
      "source": [
        "import pandas as pd\n",
        "import torch\n",
        "from sklearn.model_selection import train_test_split\n",
        "from sklearn.preprocessing import StandardScaler\n",
        "from torch.utils.data import TensorDataset, DataLoader\n",
        "\n",
        "df = pd.read_csv(\"/content/kazakhstan_air_quality_dataset_1000cols.csv\")\n",
        "\n",
        "X = df[[\"MQ135_ppm\", \"MQ9_ppm\", \"MQ131_ppm\", \"Temp (°C)\", \"Humidity (%)\", \"Pressure (hPa)\"]].values\n",
        "y = df[[\"Target_AirQuality_10d\", \"Target_AirQuality_30d\", \"Target_AirQuality_60d\", \"Target_AirQuality_180d\"]].values\n",
        "\n",
        "scaler = StandardScaler()\n",
        "X_scaled = scaler.fit_transform(X)\n",
        "\n",
        "X_train, X_test, y_train, y_test = train_test_split(X_scaled, y, test_size=0.2, random_state=42)\n",
        "\n",
        "X_train_tensor = torch.tensor(X_train, dtype=torch.float32)\n",
        "y_train_tensor = torch.tensor(y_train, dtype=torch.float32)\n",
        "X_test_tensor = torch.tensor(X_test, dtype=torch.float32)\n",
        "y_test_tensor = torch.tensor(y_test, dtype=torch.float32)\n",
        "\n",
        "train_dataset = TensorDataset(X_train_tensor, y_train_tensor)\n",
        "test_dataset = TensorDataset(X_test_tensor, y_test_tensor)\n",
        "\n",
        "train_loader = DataLoader(train_dataset, batch_size=16, shuffle=True)\n",
        "test_loader = DataLoader(test_dataset, batch_size=16, shuffle=False)\n"
      ]
    },
    {
      "cell_type": "code",
      "source": [
        "import torch.nn as nn\n",
        "\n",
        "class AirQualityModel(nn.Module):\n",
        "    def __init__(self):\n",
        "        super(AirQualityModel, self).__init__()\n",
        "        self.fc1 = nn.Linear(6, 64)\n",
        "        self.relu1 = nn.ReLU()\n",
        "        self.fc2 = nn.Linear(64, 32)\n",
        "        self.relu2 = nn.ReLU()\n",
        "        self.fc3 = nn.Linear(32, 4)\n",
        "\n",
        "    def forward(self, x):\n",
        "        x = self.relu1(self.fc1(x))\n",
        "        x = self.relu2(self.fc2(x))\n",
        "        x = self.fc3(x)\n",
        "        return x\n",
        "\n",
        "model = AirQualityModel()"
      ],
      "metadata": {
        "id": "54M3XshZPe2Y"
      },
      "execution_count": 7,
      "outputs": []
    },
    {
      "cell_type": "code",
      "source": [
        "import torch.optim as optim\n",
        "\n",
        "criterion = nn.MSELoss()\n",
        "optimizer = optim.Adam(model.parameters(), lr=0.001)\n",
        "\n",
        "num_epochs = 50\n",
        "for epoch in range(num_epochs):\n",
        "    model.train()\n",
        "    running_loss = 0.0\n",
        "    for batch_X, batch_y in train_loader:\n",
        "        optimizer.zero_grad()\n",
        "        outputs = model(batch_X)\n",
        "        loss = criterion(outputs, batch_y)\n",
        "        loss.backward()\n",
        "        optimizer.step()\n",
        "        running_loss += loss.item()\n",
        "    print(f\"Epoch {epoch+1}/{num_epochs}, Loss: {running_loss/len(train_loader):.4f}\")\n"
      ],
      "metadata": {
        "colab": {
          "base_uri": "https://localhost:8080/"
        },
        "id": "FiFiJDWNPiMm",
        "outputId": "ca6c8f3b-d657-489a-f050-9e1956cc40db"
      },
      "execution_count": 8,
      "outputs": [
        {
          "output_type": "stream",
          "name": "stdout",
          "text": [
            "Epoch 1/50, Loss: 15619.6517\n",
            "Epoch 2/50, Loss: 14991.1152\n",
            "Epoch 3/50, Loss: 12593.3126\n",
            "Epoch 4/50, Loss: 8032.2327\n",
            "Epoch 5/50, Loss: 4077.6695\n",
            "Epoch 6/50, Loss: 2912.0061\n",
            "Epoch 7/50, Loss: 2797.8017\n",
            "Epoch 8/50, Loss: 2759.1103\n",
            "Epoch 9/50, Loss: 2728.3277\n",
            "Epoch 10/50, Loss: 2705.9081\n",
            "Epoch 11/50, Loss: 2683.5872\n",
            "Epoch 12/50, Loss: 2662.9468\n",
            "Epoch 13/50, Loss: 2646.2614\n",
            "Epoch 14/50, Loss: 2628.1480\n",
            "Epoch 15/50, Loss: 2610.6127\n",
            "Epoch 16/50, Loss: 2595.1557\n",
            "Epoch 17/50, Loss: 2581.5480\n",
            "Epoch 18/50, Loss: 2568.2951\n",
            "Epoch 19/50, Loss: 2552.2680\n",
            "Epoch 20/50, Loss: 2540.9405\n",
            "Epoch 21/50, Loss: 2528.5677\n",
            "Epoch 22/50, Loss: 2522.1482\n",
            "Epoch 23/50, Loss: 2509.4058\n",
            "Epoch 24/50, Loss: 2500.5652\n",
            "Epoch 25/50, Loss: 2492.5306\n",
            "Epoch 26/50, Loss: 2483.1927\n",
            "Epoch 27/50, Loss: 2477.8583\n",
            "Epoch 28/50, Loss: 2469.2469\n",
            "Epoch 29/50, Loss: 2462.3295\n",
            "Epoch 30/50, Loss: 2456.2273\n",
            "Epoch 31/50, Loss: 2449.4976\n",
            "Epoch 32/50, Loss: 2448.3673\n",
            "Epoch 33/50, Loss: 2443.3579\n",
            "Epoch 34/50, Loss: 2434.8239\n",
            "Epoch 35/50, Loss: 2429.5998\n",
            "Epoch 36/50, Loss: 2424.1322\n",
            "Epoch 37/50, Loss: 2421.9294\n",
            "Epoch 38/50, Loss: 2417.4155\n",
            "Epoch 39/50, Loss: 2413.8557\n",
            "Epoch 40/50, Loss: 2412.2138\n",
            "Epoch 41/50, Loss: 2405.6913\n",
            "Epoch 42/50, Loss: 2405.7776\n",
            "Epoch 43/50, Loss: 2403.5521\n",
            "Epoch 44/50, Loss: 2399.8757\n",
            "Epoch 45/50, Loss: 2398.3278\n",
            "Epoch 46/50, Loss: 2395.3778\n",
            "Epoch 47/50, Loss: 2392.5291\n",
            "Epoch 48/50, Loss: 2393.4656\n",
            "Epoch 49/50, Loss: 2389.7267\n",
            "Epoch 50/50, Loss: 2385.9591\n"
          ]
        }
      ]
    },
    {
      "cell_type": "code",
      "source": [
        "model.eval()\n",
        "with torch.no_grad():\n",
        "    total_loss = 0\n",
        "    for batch_X, batch_y in test_loader:\n",
        "        outputs = model(batch_X)\n",
        "        loss = criterion(outputs, batch_y)\n",
        "        total_loss += loss.item()\n",
        "    avg_loss = total_loss / len(test_loader)\n",
        "    print(f\"Test Loss (MSE): {avg_loss:.4f}\")\n"
      ],
      "metadata": {
        "colab": {
          "base_uri": "https://localhost:8080/"
        },
        "id": "raNAP5SwPr7Y",
        "outputId": "b14b2a3d-220d-460a-e82e-d3853a2a2748"
      },
      "execution_count": 12,
      "outputs": [
        {
          "output_type": "stream",
          "name": "stdout",
          "text": [
            "Test Loss (MSE): 132.0000\n"
          ]
        }
      ]
    }
  ]
}